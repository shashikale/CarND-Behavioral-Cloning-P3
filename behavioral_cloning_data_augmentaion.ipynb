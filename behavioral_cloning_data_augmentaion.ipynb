{
 "cells": [
  {
   "cell_type": "code",
   "execution_count": null,
   "metadata": {
    "collapsed": true
   },
   "outputs": [],
   "source": [
    "import tensorflow as tf\n",
    "import numpy as np\n",
    "import pandas as pd\n",
    "import pickle\n",
    "import cv2\n",
    "import os\n",
    "import time \n",
    "\n",
    "import matplotlib.pyplot as plt\n",
    "import matplotlib.image as mpimg\n",
    "import matplotlib.gridspec as gridspec\n",
    "%matplotlib inline"
   ]
  },
  {
   "cell_type": "markdown",
   "metadata": {},
   "source": [
    "### Data Augmentation For Behavioral Cloning "
   ]
  },
  {
   "cell_type": "code",
   "execution_count": null,
   "metadata": {
    "collapsed": false
   },
   "outputs": [],
   "source": [
    "\n",
    "def pre_process_image():\n",
    "    \n",
    "    ang_range = 20\n",
    "    shear_range = 10\n",
    "    trans_range = 5\n",
    "    \n",
    "    X_aug_images = []\n",
    "    Y_steer_angles = []\n",
    "    \n",
    "    driving_log_df = pd.read_csv('driving_log.csv')\n",
    "\n",
    "    for j in range(1):\n",
    "\n",
    "        ang_range += j*5\n",
    "        shear_range += j*2\n",
    "        trans_range += j*3\n",
    "\n",
    "        print ('Epoch ',j,'Started',time.time())\n",
    "\n",
    "        for i in range (driving_log_df.shape[0]) :\n",
    "\n",
    "            steering = driving_log_df['steering'][i]\n",
    "\n",
    "            centre_img = driving_log_df['center'][i]\n",
    "            centre_img = centre_img.strip()\n",
    "\n",
    "            left_img = driving_log_df['left'][i]\n",
    "            left_img = left_img.strip()\n",
    "\n",
    "            right_img = driving_log_df['right'][i]\n",
    "            right_img = right_img.strip()\n",
    "\n",
    "            centre_img = get_augmented_image(centre_img,ang_range,shear_range,trans_range)\n",
    "            X_aug_images.append(centre_img)\n",
    "            Y_steer_angles.append(steering)\n",
    "\n",
    "\n",
    "            left_img = get_augmented_image(left_img,ang_range,shear_range,trans_range)\n",
    "            X_aug_images.append(left_img)\n",
    "            Y_steer_angles.append(steering)\n",
    "\n",
    "            right_img = get_augmented_image(right_img,ang_range,shear_range,trans_range)\n",
    "            X_aug_images.append(right_img)\n",
    "            Y_steer_angles.append(steering)\n",
    "\n",
    "            if(i % 500 ==0):\n",
    "\n",
    "                print ('No Of image Augmented ',i,time.time())\n",
    "                \n",
    "    print (len(X_aug_images) ,len(Y_steer_angles))\n",
    "    pickle.dump({'X_aug_images':X_aug_images , 'Y_steer_angles':Y_steer_angles},open('data_augmented_1.p', 'wb'))\n",
    "    "
   ]
  },
  {
   "cell_type": "code",
   "execution_count": null,
   "metadata": {
    "collapsed": true
   },
   "outputs": [],
   "source": [
    "def get_augmented_image(image,ang_range,shear_range,trans_range):\n",
    "    \n",
    "    image = mpimg.imread(image)\n",
    "    image = transform_image(image,ang_range,shear_range,trans_range)\n",
    "    \n",
    "    return image \n",
    "    "
   ]
  },
  {
   "cell_type": "code",
   "execution_count": null,
   "metadata": {
    "collapsed": true
   },
   "outputs": [],
   "source": [
    "## Data Augmentation Starts From Here \n",
    "\n",
    "def augment_brightness_camera_images(image):\n",
    "    image1 = cv2.cvtColor(image,cv2.COLOR_RGB2HSV)\n",
    "    random_bright = .25+np.random.uniform()\n",
    "    #print(random_bright)\n",
    "    image1[:,:,2] = image1[:,:,2]*random_bright\n",
    "    image1 = cv2.cvtColor(image1,cv2.COLOR_HSV2RGB)\n",
    "    return image1\n",
    "\n",
    "def transform_image(img,ang_range,shear_range,trans_range):\n",
    "    \n",
    "    '''\n",
    "    This function transforms images to generate new images.\n",
    "    The function takes in following arguments,\n",
    "    1- Image\n",
    "    2- ang_range: Range of angles for rotation\n",
    "    3- shear_range: Range of values to apply affine transform to\n",
    "    4- trans_range: Range of values to apply translations over. \n",
    "    \n",
    "    A Random uniform distribution is used to generate different parameters for transformation\n",
    "    \n",
    "    '''\n",
    "    # Rotation\n",
    "    ang_rot = np.random.uniform(ang_range)-ang_range/2\n",
    "    rows,cols,ch = img.shape    \n",
    "    Rot_M = cv2.getRotationMatrix2D((cols/2,rows/2),ang_rot,1)\n",
    "\n",
    "    # Translation\n",
    "    tr_x = trans_range*np.random.uniform()-trans_range/2\n",
    "    tr_y = trans_range*np.random.uniform()-trans_range/2\n",
    "    Trans_M = np.float32([[1,0,tr_x],[0,1,tr_y]])\n",
    "\n",
    "    # Shear\n",
    "    pts1 = np.float32([[5,5],[20,5],[5,20]])\n",
    "    pt1 = 5+shear_range*np.random.uniform()-shear_range/2\n",
    "    pt2 = 20+shear_range*np.random.uniform()-shear_range/2\n",
    "    \n",
    "    # Brightness \n",
    "    pts2 = np.float32([[pt1,5],[pt2,pt1],[5,pt2]])\n",
    "    shear_M = cv2.getAffineTransform(pts1,pts2)\n",
    "        \n",
    "    img = cv2.warpAffine(img,Rot_M,(cols,rows))\n",
    "    img = cv2.warpAffine(img,Trans_M,(cols,rows))\n",
    "    img = cv2.warpAffine(img,shear_M,(cols,rows))\n",
    "    \n",
    "    img = augment_brightness_camera_images(img)\n",
    "    \n",
    "    return img"
   ]
  },
  {
   "cell_type": "code",
   "execution_count": null,
   "metadata": {
    "collapsed": true
   },
   "outputs": [],
   "source": [
    "if __name__ == \"__main__\": \n",
    "    \n",
    "    os.chdir('/home/shashiworkspace/Udacity/Term1_Proj3/data/data/')\n",
    "    pre_process_image()\n",
    "    \n",
    "    "
   ]
  }
 ],
 "metadata": {
  "anaconda-cloud": {},
  "kernelspec": {
   "display_name": "Python [conda env:tensorflow]",
   "language": "python",
   "name": "conda-env-tensorflow-py"
  },
  "language_info": {
   "codemirror_mode": {
    "name": "ipython",
    "version": 3
   },
   "file_extension": ".py",
   "mimetype": "text/x-python",
   "name": "python",
   "nbconvert_exporter": "python",
   "pygments_lexer": "ipython3",
   "version": "3.5.2"
  }
 },
 "nbformat": 4,
 "nbformat_minor": 2
}
